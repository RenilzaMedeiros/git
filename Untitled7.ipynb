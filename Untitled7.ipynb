{
  "nbformat": 4,
  "nbformat_minor": 0,
  "metadata": {
    "colab": {
      "name": "Untitled7.ipynb",
      "provenance": [],
      "authorship_tag": "ABX9TyPF92PgcbCPCcB6ody96P7a",
      "include_colab_link": true
    },
    "kernelspec": {
      "name": "python3",
      "display_name": "Python 3"
    },
    "language_info": {
      "name": "python"
    }
  },
  "cells": [
    {
      "cell_type": "markdown",
      "metadata": {
        "id": "view-in-github",
        "colab_type": "text"
      },
      "source": [
        "<a href=\"https://colab.research.google.com/github/RenilzaMedeiros/git/blob/master/Untitled7.ipynb\" target=\"_parent\"><img src=\"https://colab.research.google.com/assets/colab-badge.svg\" alt=\"Open In Colab\"/></a>"
      ]
    },
    {
      "cell_type": "code",
      "metadata": {
        "id": "AlmX8Boa6GSa"
      },
      "source": [
        "num_lados = int(input(\"Digite o número de lados do polígono: \"))\n",
        "medida_lado = float(input(\"Informe a medida do lado em centímetros:\"))\n",
        "\n",
        "if num_lados == 3:\n",
        "  area = (medida_lado * medida_lado) / 2\n",
        "  print(\"TRIÂNGULO com área de\", area, \"cm².\")\n",
        "elif num_lados ==  4:\n",
        "  area = medida_lado * medida_lado\n",
        "  print(\"QUADRADO com área de\", area, \"cm².\")\n",
        "elif num_lados ==  5:\n",
        "  print(\"PENTÁGONO.\")\n",
        "elif num_lados < 3:\n",
        "  print(\"NÃO É UM POLÍGONO.\")  \n",
        "elif num_lados > 5:\n",
        "  print(\"POLÍGONO NÃO IDENTIFICADO.\")"
      ],
      "execution_count": null,
      "outputs": []
    },
    {
      "cell_type": "markdown",
      "metadata": {
        "id": "b81fTxUp6HYd"
      },
      "source": [
        "Escreva um programa para ler o número de lados de um polígono regular e a medida do lado (em cm).\n",
        "Calcular e imprimir o seguinte:\n",
        "− Se o número de lados for igual a 3 escrever TRIÂNGULO e o valor da área.\n",
        "− Se o número de lados for igual a 4 escrever QUADRADO e o valor da sua área.\n",
        "− Se o número de lados for igual a 5 escrever PENTÁGONO.\n",
        "− Caso o número de lados seja inferior a 3 escrever NÃO É UM POLÍGONO.\n",
        "− Caso o número de lados seja superior a 5 escrever POLÍGONO NÃO IDENTIFICADO.\n",
        "\n",
        "Grave um vídeo de no máximo dois minutos com você explicando o código escrito e anexe à atividade, junto com o código do programa.\n",
        "Comentários da turma\n",
        "Seus trabalhos\n",
        "Atribuído\n"
      ]
    }
  ]
}